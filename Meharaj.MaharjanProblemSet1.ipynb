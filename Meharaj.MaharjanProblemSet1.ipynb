{
 "cells": [
  {
   "cell_type": "markdown",
   "id": "fae77f71",
   "metadata": {},
   "source": [
    "<h4>Question 1 </h4>\n",
    "Answer:\n",
    "\n",
    "<li>5  : integer </li>\n",
    "<li>5.0: float </li>\n",
    "<li>5>1: Boolean </li>\n",
    "<li>'5' : char </li>\n",
    "<li>5*2: integer </li>\n",
    "<li>'5'*2: string </li>\n",
    "<li>'5' + '2' : string </li>\n",
    "<li>5/2: float </li>\n",
    "<li>5%2: integer </li>\n",
    "<li>{5,2,1}: object </li>\n",
    "<li>5==3 : Boolean </li>\n",
    "<li>PI: float </li>   \n"
   ]
  },
  {
   "cell_type": "code",
   "execution_count": null,
   "id": "9ed9e8e7",
   "metadata": {},
   "outputs": [],
   "source": [
    "Question 2:\n",
    "a.\n",
    "Answer: \n",
    "    \n",
    " string givenString = \"Supercalifragilisticexpialidocious\";\n",
    "int i = 0;\n",
    " foreach (var s in givenString)\n",
    "{\n",
    "    i++;\n",
    "}\n",
    "Console.WriteLine(\"The number of letters in the givern word is \" +i);"
   ]
  },
  {
   "cell_type": "code",
   "execution_count": null,
   "id": "1f2ecb3f",
   "metadata": {},
   "outputs": [],
   "source": [
    "using System;\n",
    "static void Main(){\n",
    "double side1 = 0, side2 =0, side3 =0;\n",
    "double semiperimeter = 0;\n",
    "double areaOfTriangle = 0;\n",
    "double triangleArea(double x, double y, double z)\n",
    "{\n",
    "   semiperimeter= (x + y + z) / 2;\n",
    "    areaOfTriangle = Math.Sqrt(semiperimeter*(semiperimeter-x)*(semiperimeter - y) *(semiperimeter - z));\n",
    "    return areaOfTriangle;\n",
    "}\n",
    "Console.WriteLine(\"Enter the length of first side of triangle\");\n",
    "side1 = Convert.ToDouble(Console.ReadLine());\n",
    "Console.WriteLine(\"Enter the length of second side of triangle\");\n",
    "side2 = Convert.ToDouble(Console.ReadLine());\n",
    "Console.WriteLine(\"Enter the length of third side of triangle\");\n",
    "side3 = Convert.ToDouble(Console.ReadLine());\n",
    "triangleArea(side1,side2,side3); \n",
    "Console.WriteLine(\"Area of triangle with sides {0} , {1} , {2} is {3}\",side1,side2,side3,areaOfTriangle);\n",
    "}"
   ]
  },
  {
   "cell_type": "markdown",
   "id": "2c87e8f9",
   "metadata": {},
   "source": [
    "Question 4\n",
    "Answer is given below."
   ]
  },
  {
   "cell_type": "code",
   "execution_count": 7,
   "id": "3bfe478f",
   "metadata": {},
   "outputs": [
    {
     "name": "stdout",
     "output_type": "stream",
     "text": [
      "Enter the size of array \n",
      "\n",
      "The Even Elements are \n",
      "\n",
      "The Odd Elements are \n",
      "\n"
     ]
    }
   ],
   "source": [
    "using System;\n",
    "static void Main(){\n",
    "    int arrayLength = 0;\n",
    "    string evenElements=\"\";\n",
    "    string oddElements = \"\";\n",
    "try\n",
    "{\n",
    "    Console.WriteLine(\"Enter the size of array \");\n",
    "    arrayLength = Convert.ToInt32( Console.ReadLine());\n",
    "    int[] array = new int[arrayLength];\n",
    "    for (int j = 0; j < arrayLength; j++)\n",
    "    {\n",
    "        Console.WriteLine(\"Enter the element in the array\");\n",
    "        array[j] = Convert.ToInt32(Console.ReadLine());\n",
    "    }\n",
    "    foreach(int each in array)\n",
    "    {\n",
    "        if(each==array[0])\n",
    "        Console.Write(\"The Given Array is {\");\n",
    "        Console.Write(each + \",\");\n",
    "\n",
    "        if (each == array[array.Length - 1])\n",
    "            Console.Write(\"}\");     \n",
    "\n",
    "        if (each % 2 == 0)\n",
    "        {\n",
    "            evenElements = evenElements + \" \" + each + \" \";\n",
    "        }\n",
    "        else\n",
    "        {\n",
    "            oddElements = oddElements + \" \" + each + \" \";\n",
    "        }\n",
    "    }\n",
    "    Console.Write(\"\\n\");\n",
    "    Console.WriteLine(\"The Even Elements are \");\n",
    "    Console.WriteLine(evenElements);\n",
    "    Console.WriteLine(\"The Odd Elements are \");\n",
    "    Console.WriteLine(oddElements);\n",
    "}\n",
    "catch(Exception ex)\n",
    "{\n",
    "    Console.WriteLine(ex.Message);\n",
    "};   \n",
    "   } "
   ]
  },
  {
   "cell_type": "code",
   "execution_count": null,
   "id": "c4034960",
   "metadata": {},
   "outputs": [],
   "source": [
    "Question 5\n",
    "Answer given below for both questions a and b."
   ]
  },
  {
   "cell_type": "code",
   "execution_count": 9,
   "id": "4916dcb5",
   "metadata": {},
   "outputs": [
    {
     "name": "stdout",
     "output_type": "stream",
     "text": [
      "Enter the point x \n",
      "Enter the point y \n",
      "Enter the point x1 \n",
      "Enter the point y1 \n",
      "Enter the point x2 \n",
      "Enter the point y2 \n",
      "False\n"
     ]
    }
   ],
   "source": [
    "using System;\n",
    "void Main(){\n",
    "// code for question a\n",
    "    bool check;\n",
    "bool inside(int x, int y, int x1, int y1, int x2, int y2)\n",
    "{\n",
    "    if(x > x1 && x < x2 && y > y1 && y < y2)\n",
    "    {\n",
    "        return true;\n",
    "    }\n",
    "    else\n",
    "    {\n",
    "        return false;\n",
    "    }\n",
    "}\n",
    "\n",
    "Console.WriteLine(\"Enter the point x \");\n",
    "int a = Convert.ToInt32(Console.ReadLine());\n",
    "Console.WriteLine(\"Enter the point y \");\n",
    "int b = Convert.ToInt32(Console.ReadLine());\n",
    "Console.WriteLine(\"Enter the point x1 \");\n",
    "int a1 = Convert.ToInt32(Console.ReadLine());\n",
    "Console.WriteLine(\"Enter the point y1 \");\n",
    "int b1 = Convert.ToInt32(Console.ReadLine());\n",
    "Console.WriteLine(\"Enter the point x2 \");\n",
    "int a2 = Convert.ToInt32(Console.ReadLine());\n",
    "Console.WriteLine(\"Enter the point y2 \");\n",
    "int b2 = Convert.ToInt32(Console.ReadLine());\n",
    "check=inside(a,b,a1,b1,a2,b2); \n",
    "Console.WriteLine(check); \n",
    "\n",
    "// code for question  b\n",
    "\n",
    "bool secondCheck(double x, double y, double x3, double y3, double x4, double y4)\n",
    "{\n",
    "    if (x > x3 && x < x4 && y > y3 && y < y4)\n",
    "    {\n",
    "        return true;\n",
    "    }\n",
    "    else\n",
    "    {\n",
    "        return false;\n",
    "    }\n",
    "}\n",
    "Console.WriteLine(\"Enter the point x3 \");\n",
    "double a3 = Convert.ToDouble(Console.ReadLine());\n",
    "Console.WriteLine(\"Enter the point y3 \");\n",
    "double b3 = Convert.ToDouble(Console.ReadLine());\n",
    "Console.WriteLine(\"Enter the point x4 \");\n",
    "double a4 = Convert.ToDouble(Console.ReadLine());\n",
    "Console.WriteLine(\"Enter the point y4 \");\n",
    "double b4 = Convert.ToDouble(Console.ReadLine());\n",
    "secondCheck(a,b,a3,b3,a4,b4); \n",
    "if (inside == secondCheck == true)\n",
    "{\n",
    "    Console.WriteLine(\"Point lies in both the rectangles\");\n",
    "}\n",
    "else\n",
    "{\n",
    "    Console.WriteLine(\"Point doesnot lie in both the rectangles\");\n",
    "}\n",
    "}\n"
   ]
  },
  {
   "cell_type": "markdown",
   "id": "cd61b7c7",
   "metadata": {},
   "source": [
    "Question 6 Answer given below"
   ]
  },
  {
   "cell_type": "code",
   "execution_count": null,
   "id": "02b06c25",
   "metadata": {},
   "outputs": [],
   "source": []
  }
 ],
 "metadata": {
  "kernelspec": {
   "display_name": "Python 3 (ipykernel)",
   "language": "python",
   "name": "python3"
  },
  "language_info": {
   "codemirror_mode": {
    "name": "ipython",
    "version": 3
   },
   "file_extension": ".py",
   "mimetype": "text/x-python",
   "name": "python",
   "nbconvert_exporter": "python",
   "pygments_lexer": "ipython3",
   "version": "3.9.7"
  }
 },
 "nbformat": 4,
 "nbformat_minor": 5
}
